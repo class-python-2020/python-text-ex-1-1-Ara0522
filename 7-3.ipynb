{
 "metadata": {
  "language_info": {
   "codemirror_mode": {
    "name": "ipython",
    "version": 3
   },
   "file_extension": ".py",
   "mimetype": "text/x-python",
   "name": "python",
   "nbconvert_exporter": "python",
   "pygments_lexer": "ipython3",
   "version": "3.8.2-final"
  },
  "orig_nbformat": 2,
  "kernelspec": {
   "name": "python38232bit6f72fa008a7f4f6fb7a0c1bf1c1fdf7c",
   "display_name": "Python 3.8.2 32-bit"
  }
 },
 "nbformat": 4,
 "nbformat_minor": 2,
 "cells": [
  {
   "cell_type": "code",
   "execution_count": 1,
   "metadata": {
    "tags": []
   },
   "outputs": [
    {
     "output_type": "stream",
     "name": "stdout",
     "text": "例外Aが発生しました\n"
    }
   ],
   "source": [
    "class ExceptA(Exception):\n",
    "    def __str__(self):\n",
    "        return \"例外Aが発生しました\"\n",
    "\n",
    "try:\n",
    "    raise ExceptA()\n",
    "except ExceptA as ea:\n",
    "    print(ea)\n",
    "except:\n",
    "    print('Unexpected Error:', sys.exc_info())"
   ]
  },
  {
   "cell_type": "code",
   "execution_count": 5,
   "metadata": {},
   "outputs": [
    {
     "output_type": "error",
     "ename": "TypeError",
     "evalue": "format expected at most 2 arguments, got 3",
     "traceback": [
      "\u001b[1;31m---------------------------------------------------------------------------\u001b[0m",
      "\u001b[1;31mMyValueLimitError\u001b[0m                         Traceback (most recent call last)",
      "\u001b[1;32m<ipython-input-5-7b7e3c68c5bc>\u001b[0m in \u001b[0;36mmultiplication_limit\u001b[1;34m(x1, x2, limit_number)\u001b[0m\n\u001b[0;32m     16\u001b[0m         \u001b[1;32mif\u001b[0m \u001b[0mx\u001b[0m \u001b[1;33m>\u001b[0m \u001b[0mlimit_number\u001b[0m\u001b[1;33m:\u001b[0m\u001b[1;33m\u001b[0m\u001b[1;33m\u001b[0m\u001b[0m\n\u001b[1;32m---> 17\u001b[1;33m             \u001b[1;32mraise\u001b[0m \u001b[0mMyValueLimitError\u001b[0m\u001b[1;33m(\u001b[0m\u001b[0mx1\u001b[0m\u001b[1;33m,\u001b[0m\u001b[0mx2\u001b[0m\u001b[1;33m,\u001b[0m\u001b[0mlimit_number\u001b[0m\u001b[1;33m)\u001b[0m\u001b[1;33m\u001b[0m\u001b[1;33m\u001b[0m\u001b[0m\n\u001b[0m\u001b[0;32m     18\u001b[0m         \u001b[1;32mreturn\u001b[0m \u001b[0mx\u001b[0m\u001b[1;33m\u001b[0m\u001b[1;33m\u001b[0m\u001b[0m\n",
      "\u001b[1;31m<class 'str'>\u001b[0m: (<class 'TypeError'>, TypeError('format expected at most 2 arguments, got 3'))",
      "\nDuring handling of the above exception, another exception occurred:\n",
      "\u001b[1;31mTypeError\u001b[0m                                 Traceback (most recent call last)",
      "\u001b[1;32m<ipython-input-5-7b7e3c68c5bc>\u001b[0m in \u001b[0;36m<module>\u001b[1;34m\u001b[0m\n\u001b[0;32m     25\u001b[0m \u001b[1;33m\u001b[0m\u001b[0m\n\u001b[0;32m     26\u001b[0m \u001b[0mlimit_number\u001b[0m \u001b[1;33m=\u001b[0m \u001b[1;36m10000\u001b[0m\u001b[1;33m\u001b[0m\u001b[1;33m\u001b[0m\u001b[0m\n\u001b[1;32m---> 27\u001b[1;33m \u001b[0mmultiplication_limit\u001b[0m\u001b[1;33m(\u001b[0m\u001b[1;36m100\u001b[0m\u001b[1;33m,\u001b[0m\u001b[1;36m101\u001b[0m\u001b[1;33m,\u001b[0m\u001b[0mlimit_number\u001b[0m\u001b[1;33m)\u001b[0m\u001b[1;33m\u001b[0m\u001b[1;33m\u001b[0m\u001b[0m\n\u001b[0m",
      "\u001b[1;32m<ipython-input-5-7b7e3c68c5bc>\u001b[0m in \u001b[0;36mmultiplication_limit\u001b[1;34m(x1, x2, limit_number)\u001b[0m\n\u001b[0;32m     18\u001b[0m         \u001b[1;32mreturn\u001b[0m \u001b[0mx\u001b[0m\u001b[1;33m\u001b[0m\u001b[1;33m\u001b[0m\u001b[0m\n\u001b[0;32m     19\u001b[0m     \u001b[1;32mexcept\u001b[0m \u001b[0mMyValueLimitError\u001b[0m \u001b[1;32mas\u001b[0m \u001b[0mvle\u001b[0m\u001b[1;33m:\u001b[0m\u001b[1;33m\u001b[0m\u001b[1;33m\u001b[0m\u001b[0m\n\u001b[1;32m---> 20\u001b[1;33m         \u001b[0mprint\u001b[0m\u001b[1;33m(\u001b[0m\u001b[0mvle\u001b[0m\u001b[1;33m)\u001b[0m\u001b[1;33m\u001b[0m\u001b[1;33m\u001b[0m\u001b[0m\n\u001b[0m\u001b[0;32m     21\u001b[0m         \u001b[1;32mreturn\u001b[0m \u001b[0mlimit_number\u001b[0m\u001b[1;33m\u001b[0m\u001b[1;33m\u001b[0m\u001b[0m\n\u001b[0;32m     22\u001b[0m     \u001b[1;32mexcept\u001b[0m\u001b[1;33m:\u001b[0m\u001b[1;33m\u001b[0m\u001b[1;33m\u001b[0m\u001b[0m\n",
      "\u001b[1;32m<ipython-input-5-7b7e3c68c5bc>\u001b[0m in \u001b[0;36m__str__\u001b[1;34m(self)\u001b[0m\n\u001b[0;32m      8\u001b[0m \u001b[1;33m\u001b[0m\u001b[0m\n\u001b[0;32m      9\u001b[0m     \u001b[1;32mdef\u001b[0m \u001b[0m__str__\u001b[0m\u001b[1;33m(\u001b[0m\u001b[0mself\u001b[0m\u001b[1;33m)\u001b[0m\u001b[1;33m:\u001b[0m\u001b[1;33m\u001b[0m\u001b[1;33m\u001b[0m\u001b[0m\n\u001b[1;32m---> 10\u001b[1;33m         return '値の取りうる範囲を超えています{0}{1}{2} ',format(self.x1,\n\u001b[0m\u001b[0;32m     11\u001b[0m         self.x2,self.limit_number)\n\u001b[0;32m     12\u001b[0m \u001b[1;33m\u001b[0m\u001b[0m\n",
      "\u001b[1;31mTypeError\u001b[0m: format expected at most 2 arguments, got 3"
     ]
    }
   ],
   "source": [
    "import sys\n",
    "\n",
    "class MyValueLimitError(Exception):\n",
    "    def __init__(self,x1,x2,limit_number):\n",
    "        self.x1 = x1\n",
    "        self.x2 = x2\n",
    "        self.limit_number = limit_number\n",
    "    \n",
    "    def __str__(self):\n",
    "        return '値の取りうる範囲を超えています{0}{1}{2} ',format(self.x1,\n",
    "        self.x2,self.limit_number)\n",
    "    \n",
    "def multiplication_limit(x1,x2,limit_number):\n",
    "    try:\n",
    "        x = x1 * x2\n",
    "        if x > limit_number:\n",
    "            raise MyValueLimitError(x1,x2,limit_number)\n",
    "        return x\n",
    "    except MyValueLimitError as vle:\n",
    "        print(vle)\n",
    "        return limit_number\n",
    "    except:\n",
    "        print('Unexpected Error:', sys.exc_info())\n",
    "        return None\n",
    "    \n",
    "limit_number = 10000\n",
    "multiplication_limit(100,101,limit_number)"
   ]
  },
  {
   "cell_type": "code",
   "execution_count": null,
   "metadata": {},
   "outputs": [],
   "source": []
  }
 ]
}