{
 "metadata": {
  "language_info": {
   "codemirror_mode": {
    "name": "ipython",
    "version": 3
   },
   "file_extension": ".py",
   "mimetype": "text/x-python",
   "name": "python",
   "nbconvert_exporter": "python",
   "pygments_lexer": "ipython3",
   "version": "3.8.2-final"
  },
  "orig_nbformat": 2,
  "kernelspec": {
   "name": "python38232bit6f72fa008a7f4f6fb7a0c1bf1c1fdf7c",
   "display_name": "Python 3.8.2 32-bit"
  }
 },
 "nbformat": 4,
 "nbformat_minor": 2,
 "cells": [
  {
   "cell_type": "code",
   "execution_count": 1,
   "metadata": {
    "tags": []
   },
   "outputs": [
    {
     "output_type": "stream",
     "name": "stdout",
     "text": "animal: cat\nanimal in my_func: cat\nvegetanle in my_func: carrot\n"
    }
   ],
   "source": [
    "animal = 'cat'\n",
    "print(\"animal:\",animal)\n",
    "\n",
    "def my_func():\n",
    "    vegetable = 'carrot'\n",
    "    print(\"animal in my_func:\",animal)\n",
    "    print(\"vegetable in my_func:\",vegetable)\n",
    "\n",
    "my_func()"
   ]
  },
  {
   "cell_type": "code",
   "execution_count": 3,
   "metadata": {},
   "outputs": [
    {
     "output_type": "error",
     "ename": "NameError",
     "evalue": "name 'vegetable' is not defined",
     "traceback": [
      "\u001b[1;31m---------------------------------------------------------------------------\u001b[0m",
      "\u001b[1;31mNameError\u001b[0m                                 Traceback (most recent call last)",
      "\u001b[1;32m<ipython-input-3-57503944df5d>\u001b[0m in \u001b[0;36m<module>\u001b[1;34m\u001b[0m\n\u001b[1;32m----> 1\u001b[1;33m \u001b[0mprint\u001b[0m\u001b[1;33m(\u001b[0m\u001b[1;34m'vegetable'\u001b[0m\u001b[1;33m,\u001b[0m\u001b[0mvegetable\u001b[0m\u001b[1;33m)\u001b[0m\u001b[1;33m\u001b[0m\u001b[1;33m\u001b[0m\u001b[0m\n\u001b[0m",
      "\u001b[1;31mNameError\u001b[0m: name 'vegetable' is not defined"
     ]
    }
   ],
   "source": [
    "print('vegetable',vegetable)"
   ]
  },
  {
   "cell_type": "code",
   "execution_count": 4,
   "metadata": {
    "tags": []
   },
   "outputs": [
    {
     "output_type": "stream",
     "name": "stdout",
     "text": "animal: cat\nanimal in my_func_slter: dog\nanimal global after my_func_slter: dog\n"
    }
   ],
   "source": [
    "animal = 'cat'\n",
    "print(\"animal:\",animal)\n",
    "def my_func_alter():\n",
    "    global animal\n",
    "    animal = 'dog'\n",
    "    print(\"animal in my_func_slter:\", animal)\n",
    "\n",
    "my_func_alter()\n",
    "\n",
    "print(\"animal global after my_func_slter:\",animal)"
   ]
  },
  {
   "cell_type": "code",
   "execution_count": null,
   "metadata": {},
   "outputs": [],
   "source": []
  }
 ]
}