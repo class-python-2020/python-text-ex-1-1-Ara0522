{
 "metadata": {
  "language_info": {
   "codemirror_mode": {
    "name": "ipython",
    "version": 3
   },
   "file_extension": ".py",
   "mimetype": "text/x-python",
   "name": "python",
   "nbconvert_exporter": "python",
   "pygments_lexer": "ipython3",
   "version": "3.8.2-final"
  },
  "orig_nbformat": 2,
  "kernelspec": {
   "name": "python38232bit6f72fa008a7f4f6fb7a0c1bf1c1fdf7c",
   "display_name": "Python 3.8.2 32-bit"
  }
 },
 "nbformat": 4,
 "nbformat_minor": 2,
 "cells": [
  {
   "cell_type": "code",
   "execution_count": 1,
   "metadata": {},
   "outputs": [],
   "source": [
    "def show_how_it_wprks(func):\n",
    "    def my_function(*args,**kwargs):\n",
    "        print('Running function:', func.__name__)\n",
    "        print('Positionl arguments:', args)\n",
    "        print('Keyword arguments:', kwargs)\n",
    "        result = func(*args,**kwargs)\n",
    "        print('Result:',result)\n",
    "        return result\n",
    "    return my_function"
   ]
  },
  {
   "cell_type": "code",
   "execution_count": 2,
   "metadata": {},
   "outputs": [
    {
     "output_type": "execute_result",
     "data": {
      "text/plain": "9"
     },
     "metadata": {},
     "execution_count": 2
    }
   ],
   "source": [
    "def add_two_numbers(a,b):\n",
    "    return a + b\n",
    "\n",
    "add_two_numbers(1,8)"
   ]
  },
  {
   "cell_type": "code",
   "execution_count": 3,
   "metadata": {
    "tags": []
   },
   "outputs": [
    {
     "output_type": "stream",
     "name": "stdout",
     "text": "Running function: add_two_numbers\nPositionl arguments: (1, 8)\nKeyword arguments: {}\nResult: 9\n"
    },
    {
     "output_type": "execute_result",
     "data": {
      "text/plain": "9"
     },
     "metadata": {},
     "execution_count": 3
    }
   ],
   "source": [
    "decolated_func = show_how_it_wprks(add_two_numbers)\n",
    "decolated_func(1,8)"
   ]
  },
  {
   "cell_type": "code",
   "execution_count": 4,
   "metadata": {
    "tags": []
   },
   "outputs": [
    {
     "output_type": "stream",
     "name": "stdout",
     "text": "Running function: add_two_numbers\nPositionl arguments: (1, 8)\nKeyword arguments: {}\nResult: 9\n"
    },
    {
     "output_type": "execute_result",
     "data": {
      "text/plain": "9"
     },
     "metadata": {},
     "execution_count": 4
    }
   ],
   "source": [
    "add_two_numbers = decolated_func\n",
    "add_two_numbers(1,8)"
   ]
  },
  {
   "cell_type": "code",
   "execution_count": 5,
   "metadata": {
    "tags": []
   },
   "outputs": [
    {
     "output_type": "stream",
     "name": "stdout",
     "text": "Running function: add_two_numbers\nPositionl arguments: (1, 8)\nKeyword arguments: {}\nResult: 9\n"
    },
    {
     "output_type": "execute_result",
     "data": {
      "text/plain": "9"
     },
     "metadata": {},
     "execution_count": 5
    }
   ],
   "source": [
    "@show_how_it_wprks\n",
    "def add_two_numbers(a,b):\n",
    "    return a + b\n",
    "\n",
    "add_two_numbers(1,8)"
   ]
  },
  {
   "cell_type": "code",
   "execution_count": null,
   "metadata": {},
   "outputs": [],
   "source": []
  }
 ]
}