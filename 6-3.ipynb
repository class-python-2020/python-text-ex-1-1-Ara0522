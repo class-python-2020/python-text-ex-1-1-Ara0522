{
 "metadata": {
  "language_info": {
   "codemirror_mode": {
    "name": "ipython",
    "version": 3
   },
   "file_extension": ".py",
   "mimetype": "text/x-python",
   "name": "python",
   "nbconvert_exporter": "python",
   "pygments_lexer": "ipython3",
   "version": "3.8.2-final"
  },
  "orig_nbformat": 2,
  "kernelspec": {
   "name": "python38232bit6f72fa008a7f4f6fb7a0c1bf1c1fdf7c",
   "display_name": "Python 3.8.2 32-bit"
  }
 },
 "nbformat": 4,
 "nbformat_minor": 2,
 "cells": [
  {
   "cell_type": "code",
   "execution_count": 5,
   "metadata": {},
   "outputs": [],
   "source": [
    "class Nigiri:\n",
    "    category = \"おにぎり\"\n",
    "    top = \"ねぎ\"\n",
    "    base = \"しゃり\"\n",
    "\n",
    "    def show_attributes(self):\n",
    "        print(\"top: {},base: {}, category: {}\".format(self.top, self.base, self.category))"
   ]
  },
  {
   "cell_type": "code",
   "execution_count": 6,
   "metadata": {
    "tags": []
   },
   "outputs": [
    {
     "output_type": "stream",
     "name": "stdout",
     "text": "top: ねぎ,base: しゃり, category: おにぎり\n"
    }
   ],
   "source": [
    "n1 = Nigiri()\n",
    "n1.show_attributes()"
   ]
  },
  {
   "cell_type": "code",
   "execution_count": 7,
   "metadata": {},
   "outputs": [],
   "source": [
    "class Maguro(Nigiri):\n",
    "    pass"
   ]
  },
  {
   "cell_type": "code",
   "execution_count": 9,
   "metadata": {
    "tags": []
   },
   "outputs": [
    {
     "output_type": "stream",
     "name": "stdout",
     "text": "top: ねぎ,base: しゃり, category: おにぎり\n"
    }
   ],
   "source": [
    "m1 = Maguro()\n",
    "m1.show_attributes()"
   ]
  },
  {
   "cell_type": "code",
   "execution_count": 10,
   "metadata": {
    "tags": []
   },
   "outputs": [
    {
     "output_type": "stream",
     "name": "stdout",
     "text": "top: まぐろ,base: しゃり, category: おにぎり\n"
    }
   ],
   "source": [
    "class Maguro(Nigiri):\n",
    "    top = \"まぐろ\"\n",
    "\n",
    "m3 = Maguro()\n",
    "m3.show_attributes()"
   ]
  },
  {
   "cell_type": "code",
   "execution_count": 12,
   "metadata": {
    "tags": []
   },
   "outputs": [
    {
     "output_type": "stream",
     "name": "stdout",
     "text": "top: まぐろ,base: しゃり, category: おにぎり\n"
    }
   ],
   "source": [
    "class Maguro(Nigiri):\n",
    "    top = \"まぐろ\"\n",
    "    price = 100\n",
    "\n",
    "m4 = Maguro()\n",
    "m4.show_attributes()"
   ]
  },
  {
   "cell_type": "code",
   "execution_count": 13,
   "metadata": {
    "tags": []
   },
   "outputs": [
    {
     "output_type": "stream",
     "name": "stdout",
     "text": "base: しゃり,top: まぐろ\nprice: 100円\n"
    }
   ],
   "source": [
    "class Maguro(Nigiri):\n",
    "    top = \"まぐろ\"\n",
    "    price = 100\n",
    "\n",
    "    def show_attributes(self):\n",
    "        print(\"base: {},top: {}\".format(self.base,self.top))\n",
    "        print(\"price: {}円\".format(self.price))\n",
    "\n",
    "m4 = Maguro()\n",
    "m4.show_attributes()"
   ]
  },
  {
   "cell_type": "code",
   "execution_count": 16,
   "metadata": {
    "tags": []
   },
   "outputs": [
    {
     "output_type": "stream",
     "name": "stdout",
     "text": "top: まぐろ,base: しゃり, category: おにぎり\nprice: 100円\n"
    }
   ],
   "source": [
    "class Maguro(Nigiri):\n",
    "    top = \"まぐろ\"\n",
    "    price = 100\n",
    "\n",
    "    def show_attributes(self):\n",
    "        super().show_attributes()\n",
    "        print(\"price: {}円\".format(self.price))\n",
    "\n",
    "m5 = Maguro()\n",
    "m5.show_attributes()"
   ]
  },
  {
   "cell_type": "code",
   "execution_count": 17,
   "metadata": {
    "tags": []
   },
   "outputs": [
    {
     "output_type": "stream",
     "name": "stdout",
     "text": "top: まぐろ,base: しゃり, category: おにぎり\n1皿(2かん)の値段: 100円\n"
    }
   ],
   "source": [
    "class Maguro(Nigiri):\n",
    "    top = \"まぐろ\"\n",
    "    price = 100\n",
    "\n",
    "    def show_attributes(self):\n",
    "        super().show_attributes()\n",
    "    \n",
    "    def show_one_dish_price(self, num_nugiri=2):\n",
    "        result = self.price * num_nugiri\n",
    "        print(\"1皿({}かん)の値段: {}円\".format(num_nugiri,self.price))\n",
    "\n",
    "m5 = Maguro()\n",
    "m5.show_attributes()\n",
    "m5.show_one_dish_price()"
   ]
  },
  {
   "cell_type": "code",
   "execution_count": 18,
   "metadata": {},
   "outputs": [],
   "source": [
    "class NigiriNew(Nigiri):\n",
    "\n",
    "    def __init__(self,wasabi=\"わさび抜き\"):\n",
    "        self.wasabi = wasabi\n",
    "    \n",
    "    def show_attributes(self):\n",
    "        super().show_attributes()\n",
    "        print(\"wasabi: {}\".format(self,Warning))"
   ]
  },
  {
   "cell_type": "code",
   "execution_count": 22,
   "metadata": {
    "tags": []
   },
   "outputs": [
    {
     "output_type": "stream",
     "name": "stdout",
     "text": "top: まぐろ,base: しゃり, category: おにぎり\nwasabi: <__main__.Maguro object at 0x07143748>\nprice: 100円\n"
    }
   ],
   "source": [
    "class Maguro(NigiriNew):\n",
    "    top = \"まぐろ\"\n",
    "    price = 100\n",
    "\n",
    "    def show_attributes(self):\n",
    "       super().show_attributes()\n",
    "       print(\"price: {}円\".format(self.price))\n",
    "\n",
    "m6 = Maguro()\n",
    "m6.show_attributes()"
   ]
  },
  {
   "cell_type": "code",
   "execution_count": 25,
   "metadata": {
    "tags": []
   },
   "outputs": [
    {
     "output_type": "stream",
     "name": "stdout",
     "text": "Musican リズム・メロディー・ハーモニー\nコードを書く\n楽器を演奏する\n"
    }
   ],
   "source": [
    "class Programmer:\n",
    "    def __init__(self):\n",
    "        self.skill = \"プログラミング\"\n",
    "        print('Programmer', self.skill)\n",
    "    \n",
    "    def make_code(self):\n",
    "        print(\"コードを書く\")\n",
    "\n",
    "class Musican:\n",
    "    def __init__(self):\n",
    "        self.skill = 'リズム・メロディー・ハーモニー'\n",
    "        print('Musican', self.skill)\n",
    "    \n",
    "    def play_instrument(self):\n",
    "        print('楽器を演奏する')\n",
    "    \n",
    "class MusicianPrigrammer(Musican,Programmer):\n",
    "    pass\n",
    "\n",
    "mp1 = MusicianPrigrammer()\n",
    "mp1.make_code()\n",
    "mp1.play_instrument()\n"
   ]
  },
  {
   "cell_type": "code",
   "execution_count": 26,
   "metadata": {
    "tags": []
   },
   "outputs": [
    {
     "output_type": "stream",
     "name": "stdout",
     "text": "Musican リズム・メロディー・ハーモニー\nコードを書く\n楽器を演奏する\n"
    }
   ],
   "source": [
    "class MusicianPrigrammer(Musican,Programmer):\n",
    "    pass\n",
    "\n",
    "\n",
    "pm1 = MusicianPrigrammer()\n",
    "pm1.make_code()\n",
    "pm1.play_instrument()"
   ]
  },
  {
   "cell_type": "code",
   "execution_count": null,
   "metadata": {},
   "outputs": [],
   "source": []
  }
 ]
}