{
 "metadata": {
  "language_info": {
   "codemirror_mode": {
    "name": "ipython",
    "version": 3
   },
   "file_extension": ".py",
   "mimetype": "text/x-python",
   "name": "python",
   "nbconvert_exporter": "python",
   "pygments_lexer": "ipython3",
   "version": "3.8.2-final"
  },
  "orig_nbformat": 2,
  "kernelspec": {
   "name": "python38232bit6f72fa008a7f4f6fb7a0c1bf1c1fdf7c",
   "display_name": "Python 3.8.2 32-bit"
  }
 },
 "nbformat": 4,
 "nbformat_minor": 2,
 "cells": [
  {
   "cell_type": "code",
   "execution_count": 1,
   "metadata": {},
   "outputs": [],
   "source": [
    "def func(y):\n",
    "    i = v + 3\n",
    "    return i"
   ]
  },
  {
   "cell_type": "code",
   "execution_count": 2,
   "metadata": {},
   "outputs": [
    {
     "output_type": "execute_result",
     "data": {
      "text/plain": "8"
     },
     "metadata": {},
     "execution_count": 2
    }
   ],
   "source": [
    "import my_module\n",
    "my_module.func(5)"
   ]
  },
  {
   "cell_type": "code",
   "execution_count": null,
   "metadata": {},
   "outputs": [],
   "source": [
    "def func(v):\n",
    "    i = v + 3\n",
    "    return i\n",
    "class MyClass:\n",
    "    def __init__(self,a=1,b=2):\n",
    "        self.a = a\n",
    "        self.b = b\n",
    "    \n",
    "    def show_attributes(self):\n",
    "        print(\"a = {}, b = {}, sum: {}\".format(self.a,self.b,self.sum())\n",
    "    \n",
    "    def sum(self):\n",
    "        return self.a + self.b"
   ]
  },
  {
   "cell_type": "code",
   "execution_count": 3,
   "metadata": {
    "tags": []
   },
   "outputs": [
    {
     "output_type": "stream",
     "name": "stdout",
     "text": "a = 3, b = 5, sum: 8\n"
    },
    {
     "output_type": "execute_result",
     "data": {
      "text/plain": "13"
     },
     "metadata": {},
     "execution_count": 3
    }
   ],
   "source": [
    "import my_module1\n",
    "my_class = my_module1.MyClass(3,5)\n",
    "my_class.show_attributes()\n",
    "my_module1.func(10)"
   ]
  },
  {
   "cell_type": "code",
   "execution_count": 7,
   "metadata": {
    "tags": []
   },
   "outputs": [
    {
     "output_type": "stream",
     "name": "stdout",
     "text": "__name__: __main__\na = 3, b = 5, sum: 8\n"
    }
   ],
   "source": [
    "print(\"__name__:\", __name__)\n",
    "def func(v):\n",
    "    i = v + 3\n",
    "    return i\n",
    "class MyClass:\n",
    "    def __init__(self,a=1,b=2):\n",
    "        self.a = a\n",
    "        self.b = b\n",
    "    \n",
    "    def show_attributes(self):\n",
    "        print(\"a = {}, b = {}, sum: {}\".format(self.a, self.b, self.sum()))\n",
    "    \n",
    "    def sum(self):\n",
    "        return self.a + self.b\n",
    "\n",
    "if __name__ == \"__main__\":\n",
    "    my_class = MyClass(3,5)\n",
    "    my_class.show_attributes()"
   ]
  },
  {
   "cell_type": "code",
   "execution_count": 9,
   "metadata": {
    "tags": []
   },
   "outputs": [
    {
     "output_type": "stream",
     "name": "stderr",
     "text": "Python was not found but can be installed from the Microsoft Store: https://go.microsoft.com/fwlink?linkID=2082640\n"
    }
   ],
   "source": [
    "!python3 my_module2.py"
   ]
  },
  {
   "cell_type": "code",
   "execution_count": 10,
   "metadata": {
    "tags": []
   },
   "outputs": [
    {
     "output_type": "stream",
     "name": "stdout",
     "text": "__name__: my_module2\na = 3, b = 5, sum: 8\n"
    }
   ],
   "source": [
    "import my_module2\n",
    "m2 = my_module2.MyClass(3,5)\n",
    "m2.show_attributes()"
   ]
  },
  {
   "cell_type": "code",
   "execution_count": 12,
   "metadata": {},
   "outputs": [],
   "source": [
    "def func_in_module_under_dir():\n",
    "    print(\"This is '{}'.\".format(__name__))"
   ]
  },
  {
   "cell_type": "code",
   "execution_count": 13,
   "metadata": {
    "tags": []
   },
   "outputs": [
    {
     "output_type": "stream",
     "name": "stdout",
     "text": "This is 'my_package.module_a'.\n"
    }
   ],
   "source": [
    "import my_package.module_a\n",
    "\n",
    "my_package.module_a.func_in_module_under_dir()"
   ]
  },
  {
   "cell_type": "code",
   "execution_count": null,
   "metadata": {},
   "outputs": [],
   "source": []
  }
 ]
}